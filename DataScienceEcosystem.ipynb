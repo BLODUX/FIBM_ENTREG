{
 "cells": [
  {
   "cell_type": "raw",
   "id": "4a166853-ea1f-4150-b2c0-68fb7960b4ba",
   "metadata": {},
   "source": [
    "(2-title.png) Exercise 2: Create markdown cell with title of the notebook\n",
    "Create a markdown cell with the title Data Science Tools and Ecosystem using H1 style heading."
   ]
  },
  {
   "cell_type": "markdown",
   "id": "44d52760-83ce-4cdc-bf8d-5edeb220fedb",
   "metadata": {},
   "source": [
    "# Data Science Tools and Ecosystem"
   ]
  },
  {
   "cell_type": "raw",
   "id": "3d955571-01c9-4d97-bbb9-2a967e56a2dd",
   "metadata": {},
   "source": [
    "(3-intro.png) Exercise 3 - Create a markdown cell for an introduction\n",
    "Write an introductory sentence about the notebook such as the follows: \n",
    "In this notebook, Data Science Tools and Ecosystem are summarized."
   ]
  },
  {
   "cell_type": "markdown",
   "id": "511d14af-8972-41ad-a40f-6bdb73380290",
   "metadata": {},
   "source": [
    "In this notebook, Data Science Tools and Ecosystem are summarized."
   ]
  },
  {
   "cell_type": "raw",
   "id": "817a9e27-edf0-4203-96b2-143a44466a9d",
   "metadata": {},
   "source": [
    "(10-objectives.png) Exercise 10 - Insert a markdown cell to list Objectives\n",
    "\n",
    "Below the introduction cell created in Exercise 3, insert a new markdown cell to list the objectives that this notebook covered\n",
    "(i.e. some of the key takeaways from the course). In this new cell start with an introductory line titled: Objectives: in bold font. \n",
    "Then using an unordered list (bullets) indicate 3 to 5 items covered in this notebook, such as List popular languages for Data Science."
   ]
  },
  {
   "cell_type": "markdown",
   "id": "88c7665f-1649-44ce-996f-e0c99aa666ea",
   "metadata": {},
   "source": [
    "**Objective:**\n",
    "\n",
    "Make a mental map of the most commonly used tools in Data Science and the entire ecosystem\n",
    "Items covered:\n",
    "* Languajes\n",
    "* Libraries\n",
    "* Tools\n",
    "* Arithmetic operations."
   ]
  },
  {
   "cell_type": "raw",
   "id": "09299c56-c739-4e3b-947a-5f514fba1117",
   "metadata": {},
   "source": [
    "(4-dslanguages.png) Exercise 4 - Create a markdown cell to list data science languages\n",
    "Start the cell with an overview line such as:\n",
    "Some of the popular languages that Data Scientists use are:\n",
    "Then create an ordered list (i.e. numbered) listing 3 (or more) commonly used languages for data science."
   ]
  },
  {
   "cell_type": "markdown",
   "id": "52535c8a-9835-42dd-ac10-3f2fe950af45",
   "metadata": {},
   "source": [
    "Some of the popular languages that Data Scientists use are:\n",
    "1. Python\n",
    "2. R\n",
    "3. SQL\n",
    "4. Scala\n",
    "5. And more"
   ]
  },
  {
   "cell_type": "raw",
   "id": "242e568c-ad4a-453c-ac28-c59a0a9a86e4",
   "metadata": {},
   "source": [
    "(5-dslibraries.png) Exercise 5 - Create a markdown cell to list data science libraries\n",
    "Add an overview line to the cell like:\n",
    "Some of the commonly used libraries used by Data Scientists include:\n",
    "Below this line add an ordered list listing 3 (or more) commonly used libraries in data science."
   ]
  },
  {
   "cell_type": "markdown",
   "id": "264e4fbb-31cd-4437-a3e4-2c3a1c61de9e",
   "metadata": {},
   "source": [
    "Some of the commonly used libraries used by Data Scientists include:\n",
    "1. Scikit-learn\n",
    "2. Pandas\n",
    "3. Numpy\n",
    "4. MathPlotLib\n",
    "5. Seaborn\n",
    "6. And More"
   ]
  },
  {
   "cell_type": "raw",
   "id": "a84dc13a-636c-427d-99be-43f502e006cf",
   "metadata": {},
   "source": [
    "(6-dstools.png) Exercise 6 - Create a markdown cell with a table of Data Science tools\n",
    "Create a single column table in this cell with the first row containing the header Data Science Tools. The subsequent three rows in the table should indicate three development environment open source tools used in data science."
   ]
  },
  {
   "cell_type": "markdown",
   "id": "fa3e18bf-410e-4f50-b282-a19b8fffcac0",
   "metadata": {},
   "source": [
    "| Data Science Tools |\n",
    "---------\n",
    "| VS CODE | \n",
    "| Jupyter Lab| \n",
    "| Google Colab| \n"
   ]
  },
  {
   "cell_type": "raw",
   "id": "4997ac2d-753c-4e7d-847f-b7e9a3bb082f",
   "metadata": {},
   "source": [
    "(7-introarithmetic.png) Exercise 7 - Create a markdown cell introducing arithmetic expression examples\n",
    "Add a line in this cell with H3 style heading with text like:\n",
    "Below are a few examples of evaluating arithmetic expressions in Python."
   ]
  },
  {
   "cell_type": "markdown",
   "id": "82d3febf-af6a-4573-b95a-9e052e515cd8",
   "metadata": {},
   "source": [
    "### Below are a few examples of evaluating arithmetic expressions in Python."
   ]
  },
  {
   "cell_type": "raw",
   "id": "b105f347-6642-45ed-a3ca-3395e29cdafd",
   "metadata": {},
   "source": [
    "(8-multiplyandaddintegers.png) Exercise 8 - Create a code cell to multiply and add numbers\n",
    "In this code cell evaluate the expression (3*4)+5.\n",
    "Insert a comment line before the expression to explain the operation e.g.  This a simple arithmetic expression to mutiply then add integers."
   ]
  },
  {
   "cell_type": "code",
   "execution_count": 2,
   "id": "f94eced9-1aba-4982-97de-8dcaf17c503c",
   "metadata": {},
   "outputs": [
    {
     "data": {
      "text/plain": [
       "17"
      ]
     },
     "execution_count": 2,
     "metadata": {},
     "output_type": "execute_result"
    }
   ],
   "source": [
    "# This a simple arithmetic expression to mutiply then add integers.\n",
    "(3*4)+5"
   ]
  },
  {
   "cell_type": "raw",
   "id": "f1ea7acd-439d-4cc4-86f3-d3b865d36d45",
   "metadata": {},
   "source": [
    "(9-hourstominutes.png) Exercise 9 - Create a code cell to convert minutes to hours\n",
    "In this code cell write an expression that converts 200 minutes into hours.\n",
    "Insert a comment line before the expression to explain the operation e.g.  This will convert 200 minutes to hours by diving by 60."
   ]
  },
  {
   "cell_type": "code",
   "execution_count": 3,
   "id": "f447f79d-ef52-45a4-a3ab-765db7765754",
   "metadata": {},
   "outputs": [
    {
     "data": {
      "text/plain": [
       "3.3333333333333335"
      ]
     },
     "execution_count": 3,
     "metadata": {},
     "output_type": "execute_result"
    }
   ],
   "source": [
    "# This will convert 200 minutes to hours by diving by 60.\n",
    "200/60"
   ]
  },
  {
   "cell_type": "code",
   "execution_count": null,
   "id": "7fda99e1-c992-4120-95c5-b53969fe86a6",
   "metadata": {},
   "outputs": [],
   "source": [
    "(11-authordetails.png) Exercise 11 - Create a markdown cell to indicate the Author's name\n",
    "In this markdown cell markdown cell include the following text Author in H2 style heading. Include your name as regular text below the word Author."
   ]
  },
  {
   "cell_type": "markdown",
   "id": "7126751f-5539-4b4a-9e78-728b5cc336af",
   "metadata": {},
   "source": [
    "## Autor: ##\n",
    "Eduardo."
   ]
  },
  {
   "cell_type": "raw",
   "id": "9dcd33af-a2b5-49d2-b99a-9508e0c43540",
   "metadata": {},
   "source": [
    "Exercise 12 - Share your notebook through GitHub\n",
    "Upload your notebook to a public respository on GitHub.\n",
    "Note : Please keep the GitHub repo link of the notebook handy.\n",
    "You will need to submit this link as a part of the assignment evaluation.\n",
    "\n",
    "Exercise 13 -Take a screenshot of the first page of the notebook and save it as 1-notebook.png\n",
    "Refer to Hands-on Lab: Getting Started with GitHub to upload the downloaded notebook to GitHub. your peers."
   ]
  }
 ],
 "metadata": {
  "kernelspec": {
   "display_name": "Python 3 (ipykernel)",
   "language": "python",
   "name": "python3"
  },
  "language_info": {
   "codemirror_mode": {
    "name": "ipython",
    "version": 3
   },
   "file_extension": ".py",
   "mimetype": "text/x-python",
   "name": "python",
   "nbconvert_exporter": "python",
   "pygments_lexer": "ipython3",
   "version": "3.12.4"
  }
 },
 "nbformat": 4,
 "nbformat_minor": 5
}
